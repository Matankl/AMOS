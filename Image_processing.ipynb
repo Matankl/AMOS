{
 "cells": [
  {
   "metadata": {
    "ExecuteTime": {
     "end_time": "2025-01-02T16:58:50.892493Z",
     "start_time": "2025-01-02T16:58:49.952024Z"
    }
   },
   "cell_type": "code",
   "source": [
    "import nibabel as nib\n",
    "import numpy as np\n",
    "import os\n",
    "import matplotlib.pyplot as plt\n",
    "from tqdm import tqdm\n",
    "from PIL import Image"
   ],
   "id": "add42189eebc5392",
   "outputs": [],
   "execution_count": 1
  },
  {
   "metadata": {
    "ExecuteTime": {
     "end_time": "2025-01-02T16:58:50.923032Z",
     "start_time": "2025-01-02T16:58:50.904511Z"
    }
   },
   "cell_type": "code",
   "source": [
    "def save_ct_slices_as_images(input_path, output_folder, scan_name):\n",
    "    \"\"\"\n",
    "    Saves each slice of a 3D CT scan from a .nii.gz file as individual .png images.\n",
    "\n",
    "    Parameters:\n",
    "        input_path (str): Path to the .nii.gz file.\n",
    "        output_folder (str): Directory where the slices will be saved.\n",
    "        scan_name (str): Base name for the output images (e.g., \"nameOfScan\").\n",
    "    \"\"\"\n",
    "    # Load the .nii.gz file\n",
    "    scan = nib.load(input_path)\n",
    "    scan_data = scan.get_fdata()  # Get the 3D data as a NumPy array\n",
    "\n",
    "    # Ensure output folder exists\n",
    "    if not os.path.exists(output_folder):\n",
    "        os.makedirs(output_folder)\n",
    "\n",
    "    # Iterate through each slice along the Z-axis\n",
    "    num_slices = scan_data.shape[2]\n",
    "    for i in range(num_slices):\n",
    "        slice_data = scan_data[:, :, i]  # Extract the i-th slice\n",
    "\n",
    "        # Save the slice as a PNG file\n",
    "        output_path = os.path.join(output_folder, f\"{scan_name.split('.')[0]}_slice{i}.png\")\n",
    "        plt.imsave(output_path, slice_data, cmap=\"gray\")  # Use grayscale colormap\n",
    "\n",
    "    # print(f\"Saved last slice as {output_path}\")\n",
    "\n",
    "\n",
    "def save_label_slices_as_images_no_grayscale(input_path, output_folder, scan_name):\n",
    "    \"\"\"\n",
    "    Saves each slice of a 3D label map (e.g., segmentation labels) from a .nii.gz file as individual .png images\n",
    "    without grayscale conversion. The label values are preserved.\n",
    "\n",
    "    Parameters:\n",
    "        input_path (str): Path to the .nii.gz label file.\n",
    "        output_folder (str): Directory where the slices will be saved.\n",
    "        scan_name (str): Base name for the output images (e.g., \"nameOfLabels\").\n",
    "    \"\"\"\n",
    "    # Load the .nii.gz file\n",
    "    scan = nib.load(input_path)\n",
    "    scan_data = scan.get_fdata()  # Get the 3D data as a NumPy array\n",
    "\n",
    "    # Ensure output folder exists\n",
    "    if not os.path.exists(output_folder):\n",
    "        os.makedirs(output_folder)\n",
    "\n",
    "    # Iterate through each slice along the Z-axis\n",
    "    num_slices = scan_data.shape[2]\n",
    "    for i in range(num_slices):\n",
    "        slice_data = scan_data[:, :, i]  # Extract the i-th slice\n",
    "\n",
    "        # Convert the slice to uint8 for saving (if necessary)\n",
    "        # If labels exceed 255, you may need to save as a different format.\n",
    "        slice_uint8 = slice_data.astype(np.uint8)\n",
    "\n",
    "        # Save the slice as a PNG file without grayscale conversion\n",
    "        output_path = os.path.join(output_folder, f\"{scan_name.split('.')[0]}_slice{i}.png\")\n",
    "        img = Image.fromarray(slice_uint8)\n",
    "        img.save(output_path)\n",
    "\n",
    "    # print(f\"Saved last label slice as {output_path}\")"
   ],
   "id": "9fa90aad16fae604",
   "outputs": [],
   "execution_count": 2
  },
  {
   "metadata": {
    "ExecuteTime": {
     "start_time": "2025-01-02T16:58:51.218726Z"
    }
   },
   "cell_type": "code",
   "source": [
    "AMOS_PATH = r\"D:\\Database\\Images\\amos22 (1)\\amos22\"\n",
    "\n",
    "output_folders_normal = [\n",
    "    os.path.join(AMOS_PATH, \"Train/input\"),\n",
    "    os.path.join(AMOS_PATH, \"Test/input\"),\n",
    "    os.path.join(AMOS_PATH, \"Validation/input\"),\n",
    "]\n",
    "\n",
    "output_folders_label = [\n",
    "    os.path.join(AMOS_PATH, \"Train/label\"),\n",
    "    os.path.join(AMOS_PATH, \"Test/label\"),\n",
    "    os.path.join(AMOS_PATH, \"Validation/label\")\n",
    "]\n",
    "\n",
    "input_folders_normal = [\n",
    "    os.path.join(AMOS_PATH, \"imagesTr\"),\n",
    "    os.path.join(AMOS_PATH, \"imagesTs\"),\n",
    "    os.path.join(AMOS_PATH, \"imagesVa\"),\n",
    "]\n",
    "\n",
    "input_folders_label = [\n",
    "    os.path.join(AMOS_PATH, \"labelsTr\"),\n",
    "    os.path.join(AMOS_PATH, \"labelsTs\"),\n",
    "    os.path.join(AMOS_PATH, \"labelsVa\")\n",
    "]\n",
    "\n",
    "for folder in output_folders_normal:\n",
    "    os.makedirs(folder, exist_ok=True)\n",
    "\n",
    "for folder in output_folders_label:\n",
    "    os.makedirs(folder, exist_ok=True)\n",
    "\n",
    "#create input data\n",
    "for output_folder, input_folder in zip(output_folders_normal, input_folders_normal):\n",
    "    for file in tqdm(os.listdir(input_folder)):\n",
    "        if not file.endswith(\".nii.gz\") or os.path.exists(os.path.join(output_folder, file)):\n",
    "            continue\n",
    "        save_ct_slices_as_images(os.path.join(input_folder, file), output_folder, file)\n",
    "\n",
    "# create label data\n",
    "for output_folder, input_folder in zip(output_folders_label, input_folders_label):\n",
    "    for file in tqdm(os.listdir(input_folder)):\n",
    "        if not file.endswith(\".nii.gz\") or os.path.exists(os.path.join(output_folder, file)):\n",
    "            continue\n",
    "        save_label_slices_as_images_no_grayscale(os.path.join(input_folder, file), output_folder, file)"
   ],
   "id": "e22a05178e4f419f",
   "outputs": [
    {
     "name": "stderr",
     "output_type": "stream",
     "text": [
      " 12%|█▏        | 30/241 [03:08<22:03,  6.27s/it]\n"
     ]
    },
    {
     "ename": "KeyboardInterrupt",
     "evalue": "",
     "output_type": "error",
     "traceback": [
      "\u001B[1;31m---------------------------------------------------------------------------\u001B[0m",
      "\u001B[1;31mAttributeError\u001B[0m                            Traceback (most recent call last)",
      "File \u001B[1;32m~\\miniforge3\\envs\\DeepLearning\\lib\\site-packages\\PIL\\ImageFile.py:547\u001B[0m, in \u001B[0;36m_save\u001B[1;34m(im, fp, tile, bufsize)\u001B[0m\n\u001B[0;32m    546\u001B[0m \u001B[38;5;28;01mtry\u001B[39;00m:\n\u001B[1;32m--> 547\u001B[0m     fh \u001B[38;5;241m=\u001B[39m \u001B[43mfp\u001B[49m\u001B[38;5;241;43m.\u001B[39;49m\u001B[43mfileno\u001B[49m()\n\u001B[0;32m    548\u001B[0m     fp\u001B[38;5;241m.\u001B[39mflush()\n",
      "\u001B[1;31mAttributeError\u001B[0m: '_idat' object has no attribute 'fileno'",
      "\nDuring handling of the above exception, another exception occurred:\n",
      "\u001B[1;31mKeyboardInterrupt\u001B[0m                         Traceback (most recent call last)",
      "Cell \u001B[1;32mIn[3], line 38\u001B[0m\n\u001B[0;32m     36\u001B[0m         \u001B[38;5;28;01mif\u001B[39;00m \u001B[38;5;129;01mnot\u001B[39;00m file\u001B[38;5;241m.\u001B[39mendswith(\u001B[38;5;124m\"\u001B[39m\u001B[38;5;124m.nii.gz\u001B[39m\u001B[38;5;124m\"\u001B[39m) \u001B[38;5;129;01mor\u001B[39;00m os\u001B[38;5;241m.\u001B[39mpath\u001B[38;5;241m.\u001B[39mexists(os\u001B[38;5;241m.\u001B[39mpath\u001B[38;5;241m.\u001B[39mjoin(output_folder, file)):\n\u001B[0;32m     37\u001B[0m             \u001B[38;5;28;01mcontinue\u001B[39;00m\n\u001B[1;32m---> 38\u001B[0m         \u001B[43msave_ct_slices_as_images\u001B[49m\u001B[43m(\u001B[49m\u001B[43mos\u001B[49m\u001B[38;5;241;43m.\u001B[39;49m\u001B[43mpath\u001B[49m\u001B[38;5;241;43m.\u001B[39;49m\u001B[43mjoin\u001B[49m\u001B[43m(\u001B[49m\u001B[43minput_folder\u001B[49m\u001B[43m,\u001B[49m\u001B[43m \u001B[49m\u001B[43mfile\u001B[49m\u001B[43m)\u001B[49m\u001B[43m,\u001B[49m\u001B[43m \u001B[49m\u001B[43moutput_folder\u001B[49m\u001B[43m,\u001B[49m\u001B[43m \u001B[49m\u001B[43mfile\u001B[49m\u001B[43m)\u001B[49m\n\u001B[0;32m     40\u001B[0m \u001B[38;5;66;03m# create label data\u001B[39;00m\n\u001B[0;32m     41\u001B[0m \u001B[38;5;28;01mfor\u001B[39;00m output_folder, input_folder \u001B[38;5;129;01min\u001B[39;00m \u001B[38;5;28mzip\u001B[39m(output_folders_label, input_folders_label):\n",
      "Cell \u001B[1;32mIn[2], line 25\u001B[0m, in \u001B[0;36msave_ct_slices_as_images\u001B[1;34m(input_path, output_folder, scan_name)\u001B[0m\n\u001B[0;32m     23\u001B[0m \u001B[38;5;66;03m# Save the slice as a PNG file\u001B[39;00m\n\u001B[0;32m     24\u001B[0m output_path \u001B[38;5;241m=\u001B[39m os\u001B[38;5;241m.\u001B[39mpath\u001B[38;5;241m.\u001B[39mjoin(output_folder, \u001B[38;5;124mf\u001B[39m\u001B[38;5;124m\"\u001B[39m\u001B[38;5;132;01m{\u001B[39;00mos\u001B[38;5;241m.\u001B[39mpath\u001B[38;5;241m.\u001B[39mbasename(scan_name)\u001B[38;5;132;01m}\u001B[39;00m\u001B[38;5;124m_slice\u001B[39m\u001B[38;5;132;01m{\u001B[39;00mi\u001B[38;5;132;01m}\u001B[39;00m\u001B[38;5;124m.png\u001B[39m\u001B[38;5;124m\"\u001B[39m)\n\u001B[1;32m---> 25\u001B[0m \u001B[43mplt\u001B[49m\u001B[38;5;241;43m.\u001B[39;49m\u001B[43mimsave\u001B[49m\u001B[43m(\u001B[49m\u001B[43moutput_path\u001B[49m\u001B[43m,\u001B[49m\u001B[43m \u001B[49m\u001B[43mslice_data\u001B[49m\u001B[43m,\u001B[49m\u001B[43m \u001B[49m\u001B[43mcmap\u001B[49m\u001B[38;5;241;43m=\u001B[39;49m\u001B[38;5;124;43m\"\u001B[39;49m\u001B[38;5;124;43mgray\u001B[39;49m\u001B[38;5;124;43m\"\u001B[39;49m\u001B[43m)\u001B[49m\n",
      "File \u001B[1;32m~\\miniforge3\\envs\\DeepLearning\\lib\\site-packages\\matplotlib\\pyplot.py:2411\u001B[0m, in \u001B[0;36mimsave\u001B[1;34m(fname, arr, **kwargs)\u001B[0m\n\u001B[0;32m   2407\u001B[0m \u001B[38;5;129m@_copy_docstring_and_deprecators\u001B[39m(matplotlib\u001B[38;5;241m.\u001B[39mimage\u001B[38;5;241m.\u001B[39mimsave)\n\u001B[0;32m   2408\u001B[0m \u001B[38;5;28;01mdef\u001B[39;00m \u001B[38;5;21mimsave\u001B[39m(\n\u001B[0;32m   2409\u001B[0m     fname: \u001B[38;5;28mstr\u001B[39m \u001B[38;5;241m|\u001B[39m os\u001B[38;5;241m.\u001B[39mPathLike \u001B[38;5;241m|\u001B[39m BinaryIO, arr: ArrayLike, \u001B[38;5;241m*\u001B[39m\u001B[38;5;241m*\u001B[39mkwargs\n\u001B[0;32m   2410\u001B[0m ) \u001B[38;5;241m-\u001B[39m\u001B[38;5;241m>\u001B[39m \u001B[38;5;28;01mNone\u001B[39;00m:\n\u001B[1;32m-> 2411\u001B[0m     matplotlib\u001B[38;5;241m.\u001B[39mimage\u001B[38;5;241m.\u001B[39mimsave(fname, arr, \u001B[38;5;241m*\u001B[39m\u001B[38;5;241m*\u001B[39mkwargs)\n",
      "File \u001B[1;32m~\\miniforge3\\envs\\DeepLearning\\lib\\site-packages\\matplotlib\\image.py:1656\u001B[0m, in \u001B[0;36mimsave\u001B[1;34m(fname, arr, vmin, vmax, cmap, format, origin, dpi, metadata, pil_kwargs)\u001B[0m\n\u001B[0;32m   1654\u001B[0m pil_kwargs\u001B[38;5;241m.\u001B[39msetdefault(\u001B[38;5;124m\"\u001B[39m\u001B[38;5;124mformat\u001B[39m\u001B[38;5;124m\"\u001B[39m, \u001B[38;5;28mformat\u001B[39m)\n\u001B[0;32m   1655\u001B[0m pil_kwargs\u001B[38;5;241m.\u001B[39msetdefault(\u001B[38;5;124m\"\u001B[39m\u001B[38;5;124mdpi\u001B[39m\u001B[38;5;124m\"\u001B[39m, (dpi, dpi))\n\u001B[1;32m-> 1656\u001B[0m image\u001B[38;5;241m.\u001B[39msave(fname, \u001B[38;5;241m*\u001B[39m\u001B[38;5;241m*\u001B[39mpil_kwargs)\n",
      "File \u001B[1;32m~\\miniforge3\\envs\\DeepLearning\\lib\\site-packages\\PIL\\Image.py:2568\u001B[0m, in \u001B[0;36mImage.save\u001B[1;34m(self, fp, format, **params)\u001B[0m\n\u001B[0;32m   2565\u001B[0m     fp \u001B[38;5;241m=\u001B[39m cast(IO[\u001B[38;5;28mbytes\u001B[39m], fp)\n\u001B[0;32m   2567\u001B[0m \u001B[38;5;28;01mtry\u001B[39;00m:\n\u001B[1;32m-> 2568\u001B[0m     \u001B[43msave_handler\u001B[49m\u001B[43m(\u001B[49m\u001B[38;5;28;43mself\u001B[39;49m\u001B[43m,\u001B[49m\u001B[43m \u001B[49m\u001B[43mfp\u001B[49m\u001B[43m,\u001B[49m\u001B[43m \u001B[49m\u001B[43mfilename\u001B[49m\u001B[43m)\u001B[49m\n\u001B[0;32m   2569\u001B[0m \u001B[38;5;28;01mexcept\u001B[39;00m \u001B[38;5;167;01mException\u001B[39;00m:\n\u001B[0;32m   2570\u001B[0m     \u001B[38;5;28;01mif\u001B[39;00m open_fp:\n",
      "File \u001B[1;32m~\\miniforge3\\envs\\DeepLearning\\lib\\site-packages\\PIL\\PngImagePlugin.py:1431\u001B[0m, in \u001B[0;36m_save\u001B[1;34m(im, fp, filename, chunk, save_all)\u001B[0m\n\u001B[0;32m   1427\u001B[0m     im \u001B[38;5;241m=\u001B[39m _write_multiple_frames(\n\u001B[0;32m   1428\u001B[0m         im, fp, chunk, mode, rawmode, default_image, append_images\n\u001B[0;32m   1429\u001B[0m     )\n\u001B[0;32m   1430\u001B[0m \u001B[38;5;28;01mif\u001B[39;00m im:\n\u001B[1;32m-> 1431\u001B[0m     \u001B[43mImageFile\u001B[49m\u001B[38;5;241;43m.\u001B[39;49m\u001B[43m_save\u001B[49m\u001B[43m(\u001B[49m\u001B[43mim\u001B[49m\u001B[43m,\u001B[49m\u001B[43m \u001B[49m\u001B[43m_idat\u001B[49m\u001B[43m(\u001B[49m\u001B[43mfp\u001B[49m\u001B[43m,\u001B[49m\u001B[43m \u001B[49m\u001B[43mchunk\u001B[49m\u001B[43m)\u001B[49m\u001B[43m,\u001B[49m\u001B[43m \u001B[49m\u001B[43m[\u001B[49m\u001B[43m(\u001B[49m\u001B[38;5;124;43m\"\u001B[39;49m\u001B[38;5;124;43mzip\u001B[39;49m\u001B[38;5;124;43m\"\u001B[39;49m\u001B[43m,\u001B[49m\u001B[43m \u001B[49m\u001B[43m(\u001B[49m\u001B[38;5;241;43m0\u001B[39;49m\u001B[43m,\u001B[49m\u001B[43m \u001B[49m\u001B[38;5;241;43m0\u001B[39;49m\u001B[43m)\u001B[49m\u001B[43m \u001B[49m\u001B[38;5;241;43m+\u001B[39;49m\u001B[43m \u001B[49m\u001B[43mim\u001B[49m\u001B[38;5;241;43m.\u001B[39;49m\u001B[43msize\u001B[49m\u001B[43m,\u001B[49m\u001B[43m \u001B[49m\u001B[38;5;241;43m0\u001B[39;49m\u001B[43m,\u001B[49m\u001B[43m \u001B[49m\u001B[43mrawmode\u001B[49m\u001B[43m)\u001B[49m\u001B[43m]\u001B[49m\u001B[43m)\u001B[49m\n\u001B[0;32m   1433\u001B[0m \u001B[38;5;28;01mif\u001B[39;00m info:\n\u001B[0;32m   1434\u001B[0m     \u001B[38;5;28;01mfor\u001B[39;00m info_chunk \u001B[38;5;129;01min\u001B[39;00m info\u001B[38;5;241m.\u001B[39mchunks:\n",
      "File \u001B[1;32m~\\miniforge3\\envs\\DeepLearning\\lib\\site-packages\\PIL\\ImageFile.py:551\u001B[0m, in \u001B[0;36m_save\u001B[1;34m(im, fp, tile, bufsize)\u001B[0m\n\u001B[0;32m    549\u001B[0m     _encode_tile(im, fp, tile, bufsize, fh)\n\u001B[0;32m    550\u001B[0m \u001B[38;5;28;01mexcept\u001B[39;00m (\u001B[38;5;167;01mAttributeError\u001B[39;00m, io\u001B[38;5;241m.\u001B[39mUnsupportedOperation) \u001B[38;5;28;01mas\u001B[39;00m exc:\n\u001B[1;32m--> 551\u001B[0m     \u001B[43m_encode_tile\u001B[49m\u001B[43m(\u001B[49m\u001B[43mim\u001B[49m\u001B[43m,\u001B[49m\u001B[43m \u001B[49m\u001B[43mfp\u001B[49m\u001B[43m,\u001B[49m\u001B[43m \u001B[49m\u001B[43mtile\u001B[49m\u001B[43m,\u001B[49m\u001B[43m \u001B[49m\u001B[43mbufsize\u001B[49m\u001B[43m,\u001B[49m\u001B[43m \u001B[49m\u001B[38;5;28;43;01mNone\u001B[39;49;00m\u001B[43m,\u001B[49m\u001B[43m \u001B[49m\u001B[43mexc\u001B[49m\u001B[43m)\u001B[49m\n\u001B[0;32m    552\u001B[0m \u001B[38;5;28;01mif\u001B[39;00m \u001B[38;5;28mhasattr\u001B[39m(fp, \u001B[38;5;124m\"\u001B[39m\u001B[38;5;124mflush\u001B[39m\u001B[38;5;124m\"\u001B[39m):\n\u001B[0;32m    553\u001B[0m     fp\u001B[38;5;241m.\u001B[39mflush()\n",
      "File \u001B[1;32m~\\miniforge3\\envs\\DeepLearning\\lib\\site-packages\\PIL\\ImageFile.py:570\u001B[0m, in \u001B[0;36m_encode_tile\u001B[1;34m(im, fp, tile, bufsize, fh, exc)\u001B[0m\n\u001B[0;32m    567\u001B[0m \u001B[38;5;28;01mif\u001B[39;00m exc:\n\u001B[0;32m    568\u001B[0m     \u001B[38;5;66;03m# compress to Python file-compatible object\u001B[39;00m\n\u001B[0;32m    569\u001B[0m     \u001B[38;5;28;01mwhile\u001B[39;00m \u001B[38;5;28;01mTrue\u001B[39;00m:\n\u001B[1;32m--> 570\u001B[0m         errcode, data \u001B[38;5;241m=\u001B[39m \u001B[43mencoder\u001B[49m\u001B[38;5;241;43m.\u001B[39;49m\u001B[43mencode\u001B[49m\u001B[43m(\u001B[49m\u001B[43mbufsize\u001B[49m\u001B[43m)\u001B[49m[\u001B[38;5;241m1\u001B[39m:]\n\u001B[0;32m    571\u001B[0m         fp\u001B[38;5;241m.\u001B[39mwrite(data)\n\u001B[0;32m    572\u001B[0m         \u001B[38;5;28;01mif\u001B[39;00m errcode:\n",
      "\u001B[1;31mKeyboardInterrupt\u001B[0m: "
     ]
    }
   ],
   "execution_count": 3
  },
  {
   "metadata": {
    "ExecuteTime": {
     "end_time": "2025-01-02T17:01:59.394038900Z",
     "start_time": "2025-01-02T13:58:40.100738Z"
    }
   },
   "cell_type": "code",
   "source": [
    "#make sure there is no mismatch files\n",
    "\n",
    "# Define directories\n",
    "Train_image_dir = 'amos22/imagesTr'\n",
    "Train_label_dir = 'amos22/labelsTr'\n",
    "\n",
    "# Get list of file names in each directory\n",
    "image_files = set(os.listdir(Train_image_dir))\n",
    "label_files = set(os.listdir(Train_label_dir))\n",
    "\n",
    "# Find files in imagesTr but not in labelsTr\n",
    "extra_image_files = image_files - label_files\n",
    "\n",
    "# Print the results\n",
    "if extra_image_files:\n",
    "    print(\"Files in 'imagesTr' but not in 'labelsTr':\")\n",
    "    for file in extra_image_files:\n",
    "        print(file)\n",
    "else:\n",
    "    print(\"No extra files in 'imagesTr'.\")"
   ],
   "id": "1c76efb27dfbc2f9",
   "outputs": [
    {
     "name": "stdout",
     "output_type": "stream",
     "text": [
      "No extra files in 'imagesTr'.\n"
     ]
    }
   ],
   "execution_count": 4
  },
  {
   "metadata": {
    "ExecuteTime": {
     "end_time": "2025-01-02T17:01:59.396046700Z",
     "start_time": "2025-01-02T13:58:40.214939Z"
    }
   },
   "cell_type": "code",
   "source": "",
   "id": "d89f748d70617c52",
   "outputs": [],
   "execution_count": null
  },
  {
   "metadata": {},
   "cell_type": "code",
   "outputs": [],
   "execution_count": null,
   "source": "",
   "id": "7fdbf0cc9946f035"
  }
 ],
 "metadata": {
  "kernelspec": {
   "name": "python3",
   "language": "python",
   "display_name": "Python 3 (ipykernel)"
  }
 },
 "nbformat": 5,
 "nbformat_minor": 9
}
