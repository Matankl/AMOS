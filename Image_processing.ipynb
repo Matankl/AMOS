{
 "cells": [
  {
   "metadata": {
    "ExecuteTime": {
     "end_time": "2025-01-02T12:07:00.812334Z",
     "start_time": "2025-01-02T12:07:00.474353Z"
    }
   },
   "cell_type": "code",
   "source": [
    "import nibabel as nib\n",
    "import numpy as np\n",
    "import os\n",
    "import matplotlib.pyplot as plt\n",
    "from tqdm import tqdm\n",
    "from PIL import Image"
   ],
   "id": "add42189eebc5392",
   "outputs": [],
   "execution_count": 1
  },
  {
   "metadata": {},
   "cell_type": "code",
   "outputs": [],
   "execution_count": null,
   "source": "",
   "id": "123d68f4b1fb46e0"
  },
  {
   "metadata": {
    "ExecuteTime": {
     "end_time": "2025-01-02T12:07:00.821309Z",
     "start_time": "2025-01-02T12:07:00.816903Z"
    }
   },
   "cell_type": "code",
   "source": [
    "def save_ct_slices_as_images(input_path, output_folder, scan_name):\n",
    "    \"\"\"\n",
    "    Saves each slice of a 3D CT scan from a .nii.gz file as individual .png images.\n",
    "\n",
    "    Parameters:\n",
    "        input_path (str): Path to the .nii.gz file.\n",
    "        output_folder (str): Directory where the slices will be saved.\n",
    "        scan_name (str): Base name for the output images (e.g., \"nameOfScan\").\n",
    "    \"\"\"\n",
    "    # Load the .nii.gz file\n",
    "    scan = nib.load(input_path)\n",
    "    scan_data = scan.get_fdata()  # Get the 3D data as a NumPy array\n",
    "\n",
    "    # Ensure output folder exists\n",
    "    if not os.path.exists(output_folder):\n",
    "        os.makedirs(output_folder)\n",
    "\n",
    "    # Iterate through each slice along the Z-axis\n",
    "    num_slices = scan_data.shape[2]\n",
    "    for i in range(num_slices):\n",
    "        slice_data = scan_data[:, :, i]  # Extract the i-th slice\n",
    "\n",
    "        # Save the slice as a PNG file\n",
    "        output_path = os.path.join(output_folder, f\"{scan_name}_slice{i}.png\")\n",
    "        plt.imsave(output_path, slice_data, cmap=\"gray\")  # Use grayscale colormap\n",
    "\n",
    "    # print(f\"Saved last slice as {output_path}\")\n",
    "\n",
    "\n",
    "def save_label_slices_as_images_no_grayscale(input_path, output_folder, scan_name):\n",
    "    \"\"\"\n",
    "    Saves each slice of a 3D label map (e.g., segmentation labels) from a .nii.gz file as individual .png images\n",
    "    without grayscale conversion. The label values are preserved.\n",
    "\n",
    "    Parameters:\n",
    "        input_path (str): Path to the .nii.gz label file.\n",
    "        output_folder (str): Directory where the slices will be saved.\n",
    "        scan_name (str): Base name for the output images (e.g., \"nameOfLabels\").\n",
    "    \"\"\"\n",
    "    # Load the .nii.gz file\n",
    "    scan = nib.load(input_path)\n",
    "    scan_data = scan.get_fdata()  # Get the 3D data as a NumPy array\n",
    "\n",
    "    # Ensure output folder exists\n",
    "    if not os.path.exists(output_folder):\n",
    "        os.makedirs(output_folder)\n",
    "\n",
    "    # Iterate through each slice along the Z-axis\n",
    "    num_slices = scan_data.shape[2]\n",
    "    for i in range(num_slices):\n",
    "        slice_data = scan_data[:, :, i]  # Extract the i-th slice\n",
    "\n",
    "        # Convert the slice to uint8 for saving (if necessary)\n",
    "        # If labels exceed 255, you may need to save as a different format.\n",
    "        slice_uint8 = slice_data.astype(np.uint8)\n",
    "\n",
    "        # Save the slice as a PNG file without grayscale conversion\n",
    "        output_path = os.path.join(output_folder, f\"{scan_name}_slice{i}.png\")\n",
    "        img = Image.fromarray(slice_uint8)\n",
    "        img.save(output_path)\n",
    "\n",
    "    # print(f\"Saved last label slice as {output_path}\")"
   ],
   "id": "9fa90aad16fae604",
   "outputs": [],
   "execution_count": 2
  },
  {
   "metadata": {
    "ExecuteTime": {
     "end_time": "2025-01-02T13:58:24.823388Z",
     "start_time": "2025-01-02T12:07:00.889831Z"
    }
   },
   "cell_type": "code",
   "source": [
    "output_folders_normal = [\n",
    "    \"amos22/Train/input\",\n",
    "    \"amos22/Test/input\",\n",
    "    \"amos22/Validation/input\",\n",
    "]\n",
    "\n",
    "output_folders_label = [\n",
    "    \"amos22/Train/label\",\n",
    "    \"amos22/Test/label\",\n",
    "    \"amos22/Validation/label\"\n",
    "]\n",
    "\n",
    "input_folders_normal = [\n",
    "    \"amos22/imagesTr\",\n",
    "    \"amos22/imagesTs\",\n",
    "    \"amos22/imagesVa\",\n",
    "]\n",
    "\n",
    "input_folders_label = [\n",
    "    \"amos22/labelsTr\",\n",
    "    \"amos22/labelsTs\",\n",
    "    \"amos22/labelsVa\"\n",
    "]\n",
    "\n",
    "for folder in output_folders_normal:\n",
    "    os.makedirs(folder, exist_ok=True)\n",
    "\n",
    "for folder in output_folders_label:\n",
    "    os.makedirs(folder, exist_ok=True)\n",
    "\n",
    "#create input data\n",
    "for output_folder, input_folder in zip(output_folders_normal, input_folders_normal):\n",
    "    for file in tqdm(os.listdir(input_folder)):\n",
    "        if not file.endswith(\".nii.gz\") or os.path.exists(os.path.join(output_folder, file)):\n",
    "            continue\n",
    "        save_ct_slices_as_images(os.path.join(input_folder, file), output_folder, file)\n",
    "\n",
    "# create label data\n",
    "for output_folder, input_folder in zip(output_folders_label, input_folders_label):\n",
    "    for file in tqdm(os.listdir(input_folder)):\n",
    "        if not file.endswith(\".nii.gz\") or os.path.exists(os.path.join(output_folder, file)):\n",
    "            continue\n",
    "        save_label_slices_as_images_no_grayscale(os.path.join(input_folder, file), output_folder, file)"
   ],
   "id": "e22a05178e4f419f",
   "outputs": [
    {
     "name": "stderr",
     "output_type": "stream",
     "text": [
      "100%|██████████| 240/240 [40:24<00:00, 10.10s/it]\n",
      "100%|██████████| 240/240 [40:41<00:00, 10.17s/it] \n",
      "100%|██████████| 120/120 [23:22<00:00, 11.69s/it]\n",
      "100%|██████████| 240/240 [05:09<00:00,  1.29s/it]\n",
      "100%|██████████| 1/1 [00:00<00:00, 18808.54it/s]\n",
      "100%|██████████| 120/120 [01:45<00:00,  1.14it/s]\n"
     ]
    }
   ],
   "execution_count": 3
  },
  {
   "metadata": {
    "ExecuteTime": {
     "end_time": "2025-01-02T13:58:40.107478Z",
     "start_time": "2025-01-02T13:58:40.100738Z"
    }
   },
   "cell_type": "code",
   "source": [
    "#make sure there is no mismatch files\n",
    "\n",
    "# Define directories\n",
    "Train_image_dir = 'amos22/imagesTr'\n",
    "Train_label_dir = 'amos22/labelsTr'\n",
    "\n",
    "# Get list of file names in each directory\n",
    "image_files = set(os.listdir(Train_image_dir))\n",
    "label_files = set(os.listdir(Train_label_dir))\n",
    "\n",
    "# Find files in imagesTr but not in labelsTr\n",
    "extra_image_files = image_files - label_files\n",
    "\n",
    "# Print the results\n",
    "if extra_image_files:\n",
    "    print(\"Files in 'imagesTr' but not in 'labelsTr':\")\n",
    "    for file in extra_image_files:\n",
    "        print(file)\n",
    "else:\n",
    "    print(\"No extra files in 'imagesTr'.\")"
   ],
   "id": "1c76efb27dfbc2f9",
   "outputs": [
    {
     "name": "stdout",
     "output_type": "stream",
     "text": [
      "No extra files in 'imagesTr'.\n"
     ]
    }
   ],
   "execution_count": 4
  },
  {
   "metadata": {
    "ExecuteTime": {
     "end_time": "2025-01-02T13:58:40.217172Z",
     "start_time": "2025-01-02T13:58:40.214939Z"
    }
   },
   "cell_type": "code",
   "source": "",
   "id": "d89f748d70617c52",
   "outputs": [],
   "execution_count": null
  },
  {
   "metadata": {},
   "cell_type": "code",
   "outputs": [],
   "execution_count": null,
   "source": "",
   "id": "7fdbf0cc9946f035"
  }
 ],
 "metadata": {
  "kernelspec": {
   "name": "python3",
   "language": "python",
   "display_name": "Python 3 (ipykernel)"
  }
 },
 "nbformat": 5,
 "nbformat_minor": 9
}
