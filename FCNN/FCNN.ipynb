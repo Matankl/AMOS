{
 "cells": [
  {
   "metadata": {
    "collapsed": true,
    "ExecuteTime": {
     "end_time": "2025-01-14T19:16:29.197029Z",
     "start_time": "2025-01-14T19:16:29.075576Z"
    }
   },
   "cell_type": "code",
   "source": [
    "import os\n",
    "import numpy as np\n",
    "from PIL import Image\n",
    "\n",
    "# Check labels during dataset loading\n",
    "for file_name in os.listdir(\"../amos22/Train/label\"):\n",
    "    label_path = os.path.join(\"../amos22/Train/label\", file_name)\n",
    "    label_image = np.array(Image.open(label_path))\n",
    "    unique_values = np.unique(label_image)\n",
    "    print(f\"{file_name} unique labels: {unique_values}\")\n",
    "    assert unique_values.max() < 16, f\"Label value out of bounds in {file_name}\"\n"
   ],
   "id": "initial_id",
   "outputs": [
    {
     "ename": "AttributeError",
     "evalue": "module 'numpy' has no attribute 'array'",
     "output_type": "error",
     "traceback": [
      "\u001B[0;31m---------------------------------------------------------------------------\u001B[0m",
      "\u001B[0;31mAttributeError\u001B[0m                            Traceback (most recent call last)",
      "Cell \u001B[0;32mIn[2], line 8\u001B[0m\n\u001B[1;32m      6\u001B[0m \u001B[38;5;28;01mfor\u001B[39;00m file_name \u001B[38;5;129;01min\u001B[39;00m os\u001B[38;5;241m.\u001B[39mlistdir(\u001B[38;5;124m\"\u001B[39m\u001B[38;5;124m../amos22/Train/label\u001B[39m\u001B[38;5;124m\"\u001B[39m):\n\u001B[1;32m      7\u001B[0m     label_path \u001B[38;5;241m=\u001B[39m os\u001B[38;5;241m.\u001B[39mpath\u001B[38;5;241m.\u001B[39mjoin(\u001B[38;5;124m\"\u001B[39m\u001B[38;5;124m../amos22/Train/label\u001B[39m\u001B[38;5;124m\"\u001B[39m, file_name)\n\u001B[0;32m----> 8\u001B[0m     label_image \u001B[38;5;241m=\u001B[39m \u001B[43mnp\u001B[49m\u001B[38;5;241;43m.\u001B[39;49m\u001B[43marray\u001B[49m(Image\u001B[38;5;241m.\u001B[39mopen(label_path))\n\u001B[1;32m      9\u001B[0m     unique_values \u001B[38;5;241m=\u001B[39m np\u001B[38;5;241m.\u001B[39munique(label_image)\n\u001B[1;32m     10\u001B[0m     \u001B[38;5;28mprint\u001B[39m(\u001B[38;5;124mf\u001B[39m\u001B[38;5;124m\"\u001B[39m\u001B[38;5;132;01m{\u001B[39;00mfile_name\u001B[38;5;132;01m}\u001B[39;00m\u001B[38;5;124m unique labels: \u001B[39m\u001B[38;5;132;01m{\u001B[39;00munique_values\u001B[38;5;132;01m}\u001B[39;00m\u001B[38;5;124m\"\u001B[39m)\n",
      "\u001B[0;31mAttributeError\u001B[0m: module 'numpy' has no attribute 'array'"
     ]
    }
   ],
   "execution_count": 2
  }
 ],
 "metadata": {
  "kernelspec": {
   "display_name": "Python 3",
   "language": "python",
   "name": "python3"
  },
  "language_info": {
   "codemirror_mode": {
    "name": "ipython",
    "version": 2
   },
   "file_extension": ".py",
   "mimetype": "text/x-python",
   "name": "python",
   "nbconvert_exporter": "python",
   "pygments_lexer": "ipython2",
   "version": "2.7.6"
  }
 },
 "nbformat": 4,
 "nbformat_minor": 5
}
