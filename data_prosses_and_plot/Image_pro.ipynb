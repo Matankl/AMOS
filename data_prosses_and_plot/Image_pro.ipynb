{
 "cells": [
  {
   "metadata": {
    "ExecuteTime": {
     "end_time": "2025-01-13T13:44:18.379225Z",
     "start_time": "2025-01-13T13:44:17.343044Z"
    }
   },
   "cell_type": "code",
   "source": [
    "import nibabel as nib\n",
    "import numpy as np\n",
    "import os\n",
    "import matplotlib.pyplot as plt\n",
    "from tqdm import tqdm\n",
    "from PIL import Image"
   ],
   "id": "835fee848ef1a866",
   "outputs": [],
   "execution_count": 1
  },
  {
   "metadata": {
    "ExecuteTime": {
     "end_time": "2025-01-13T13:44:18.718300Z",
     "start_time": "2025-01-13T13:44:18.702075Z"
    }
   },
   "cell_type": "code",
   "source": [
    "def save_ct_slices_as_images(input_path, output_folder, scan_name):\n",
    "    \"\"\"\n",
    "    Saves each slice of a 3D CT scan from a .nii.gz file as individual .png images.\n",
    "\n",
    "    Parameters:\n",
    "        input_path (str): Path to the .nii.gz file.\n",
    "        output_folder (str): Directory where the slices will be saved.\n",
    "        scan_name (str): Base name for the output images (e.g., \"nameOfScan\").\n",
    "    \"\"\"\n",
    "    # Load the .nii.gz file\n",
    "    scan = nib.load(input_path)\n",
    "    scan_data = scan.get_fdata()  # Get the 3D data as a NumPy array\n",
    "\n",
    "    # Ensure output folder exists\n",
    "    if not os.path.exists(output_folder):\n",
    "        os.makedirs(output_folder)\n",
    "\n",
    "    # Iterate through each slice along the Z-axis\n",
    "    num_slices = scan_data.shape[2]\n",
    "    for i in range(num_slices):\n",
    "        slice_data = scan_data[:, :, i]  # Extract the i-th slice\n",
    "\n",
    "        # Save the slice as a PNG file\n",
    "        output_path = os.path.join(output_folder, f\"{scan_name.split('.')[0]}_slice{i}.png\")\n",
    "        plt.imsave(output_path, slice_data, cmap=\"gray\")  # Use grayscale colormap\n",
    "\n",
    "    # print(f\"Saved last slice as {output_path}\")\n",
    "\n",
    "\n",
    "def save_label_slices_as_images_no_grayscale(input_path, output_folder, scan_name):\n",
    "    \"\"\"\n",
    "    Saves each slice of a 3D label map (e.g., segmentation labels) from a .nii.gz file as individual .png images\n",
    "    without grayscale conversion. The label values are preserved.\n",
    "\n",
    "    Parameters:\n",
    "        input_path (str): Path to the .nii.gz label file.\n",
    "        output_folder (str): Directory where the slices will be saved.\n",
    "        scan_name (str): Base name for the output images (e.g., \"nameOfLabels\").\n",
    "    \"\"\"\n",
    "    # Load the .nii.gz file\n",
    "    scan = nib.load(input_path)\n",
    "    scan_data = scan.get_fdata()  # Get the 3D data as a NumPy array\n",
    "\n",
    "    # Ensure output folder exists\n",
    "    if not os.path.exists(output_folder):\n",
    "        os.makedirs(output_folder)\n",
    "\n",
    "    # Iterate through each slice along the Z-axis\n",
    "    num_slices = scan_data.shape[2]\n",
    "    for i in range(num_slices):\n",
    "        slice_data = scan_data[:, :, i]  # Extract the i-th slice\n",
    "\n",
    "        # Convert the slice to uint8 for saving (if necessary)\n",
    "        # If labels exceed 255, you may need to save as a different format.\n",
    "        slice_uint8 = slice_data.astype(np.uint8)\n",
    "\n",
    "        # Save the slice as a PNG file without grayscale conversion\n",
    "        output_path = os.path.join(output_folder, f\"{scan_name.split('.')[0]}_slice{i}.png\")\n",
    "        img = Image.fromarray(slice_uint8)\n",
    "        img.save(output_path)\n",
    "\n",
    "    # print(f\"Saved last label slice as {output_path}\")"
   ],
   "id": "1862e866b60d6dbb",
   "outputs": [],
   "execution_count": 2
  },
  {
   "metadata": {
    "jupyter": {
     "is_executing": true
    },
    "ExecuteTime": {
     "start_time": "2025-01-13T13:44:18.749898Z"
    }
   },
   "cell_type": "code",
   "source": [
    "AMOS_PATH = r\"/home/or/Desktop/DataSets/AMOS/amos22\"\n",
    "\n",
    "output_folders_normal = [\n",
    "    os.path.join(AMOS_PATH, \"Train/input\"),\n",
    "    # os.path.join(AMOS_PATH, \"Test/input\"),\n",
    "    # os.path.join(AMOS_PATH, \"Validation/input\"),\n",
    "]\n",
    "\n",
    "output_folders_label = [\n",
    "    # os.path.join(AMOS_PATH, \"Train/label\"),\n",
    "    # os.path.join(AMOS_PATH, \"Test/label\"),\n",
    "    # os.path.join(AMOS_PATH, \"Validation/label\")\n",
    "]\n",
    "\n",
    "input_folders_normal = [\n",
    "    os.path.join(AMOS_PATH, \"imagesTr\"),\n",
    "#     os.path.join(AMOS_PATH, \"imagesTs\"),\n",
    "#     os.path.join(AMOS_PATH, \"imagesVa\"),\n",
    "]\n",
    "\n",
    "input_folders_label = [\n",
    "    # os.path.join(AMOS_PATH, \"labelsTr\"),\n",
    "    # os.path.join(AMOS_PATH, \"labelsTs\"),\n",
    "    # os.path.join(AMOS_PATH, \"labelsVa\")\n",
    "]\n",
    "\n",
    "for folder in output_folders_normal:\n",
    "    os.makedirs(folder, exist_ok=True)\n",
    "\n",
    "for folder in output_folders_label:\n",
    "    os.makedirs(folder, exist_ok=True)\n",
    "\n",
    "#create input data\n",
    "for output_folder, input_folder in zip(output_folders_normal, input_folders_normal):\n",
    "    for file in tqdm(os.listdir(input_folder)):\n",
    "        if not file.endswith(\".nii.gz\") or os.path.exists(os.path.join(output_folder, file)):\n",
    "            continue\n",
    "        save_ct_slices_as_images(os.path.join(input_folder, file), output_folder, file)\n",
    "\n",
    "# create label data\n",
    "for output_folder, input_folder in zip(output_folders_label, input_folders_label):\n",
    "    for file in tqdm(os.listdir(input_folder)):\n",
    "        if not file.endswith(\".nii.gz\") or os.path.exists(os.path.join(output_folder, file)):\n",
    "            continue\n",
    "        save_label_slices_as_images_no_grayscale(os.path.join(input_folder, file), output_folder, file)"
   ],
   "id": "cd0c6b33f106d691",
   "outputs": [
    {
     "name": "stderr",
     "output_type": "stream",
     "text": [
      "  0%|          | 1/240 [00:32<2:07:28, 32.00s/it]"
     ]
    }
   ],
   "execution_count": null
  },
  {
   "metadata": {},
   "cell_type": "code",
   "outputs": [],
   "execution_count": null,
   "source": [
    "#make sure there is no mismatch files\n",
    "suffixes = ['Tr', 'Ts', 'Va']\n",
    "folders_1 = [f'amos22/images{suffix}' for suffix in suffixes]\n",
    "folders_2 = [f'amos22/labels{suffix}' for suffix in suffixes]\n"
   ],
   "id": "c37ad19857833db5"
  }
 ],
 "metadata": {
  "kernelspec": {
   "name": "python3",
   "language": "python",
   "display_name": "Python 3 (ipykernel)"
  }
 },
 "nbformat": 5,
 "nbformat_minor": 9
}
