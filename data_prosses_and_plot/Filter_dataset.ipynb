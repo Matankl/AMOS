{
 "cells": [
  {
   "metadata": {},
   "cell_type": "code",
   "source": [
    "import os\n",
    "from PIL import Image\n",
    "import numpy as np\n",
    "from tqdm import tqdm"
   ],
   "id": "c8cf3118c6b7c113",
   "outputs": [],
   "execution_count": null
  },
  {
   "metadata": {},
   "cell_type": "code",
   "source": [
    "import sys\n",
    "import os\n",
    "from PIL import Image\n",
    "\n",
    "def resize_square_image(input_path: str, output_path: str, target_size: int) -> None:\n",
    "    \"\"\"\n",
    "    Resizes a square image to `target_size x target_size` using LANCZOS resampling.\n",
    "\n",
    "    Parameters:\n",
    "    -----------\n",
    "    input_path : str\n",
    "        Path to the input image (must be square).\n",
    "    output_path : str\n",
    "        Path to save the resized image.\n",
    "    target_size : int\n",
    "        Desired output size (width = height = target_size).\n",
    "    \"\"\"\n",
    "\n",
    "    # Load the image\n",
    "    with Image.open(input_path) as img:\n",
    "        # Optional check: Ensure the image is square\n",
    "        width, height = img.size\n",
    "        if width != height:\n",
    "            print(f\"Warning: The input image ({width}x{height}) is not square.\")\n",
    "            print(\"For best results, use a square image or consider cropping.\")\n",
    "\n",
    "        if width == height == 640:\n",
    "            return\n",
    "\n",
    "        # Resize using the high-quality LANCZOS filter\n",
    "        resized_img = img.resize((target_size, target_size), Image.NEAREST)\n",
    "\n",
    "        # Save the resized image\n",
    "        resized_img.save(output_path)\n",
    "\n",
    "    # print(f\"Image '{input_path}' resized to {target_size}x{target_size} and saved as '{output_path}'.\")\n",
    "\n",
    "\n"
   ],
   "id": "199f407dc094ae6",
   "outputs": [],
   "execution_count": null
  },
  {
   "metadata": {},
   "cell_type": "code",
   "source": [
    "amos_path = \"/home/or/Desktop/DataSets/AMOS/amos22\"\n",
    "folders = [\"Train\", \"Test\", \"Validation\"]\n",
    "sub_folder = [\"input\", \"label\"]\n",
    "# sub_folder = [ \"label\"]\n",
    "\n",
    "for folder in folders:\n",
    "    for sub_folder in sub_folder:\n",
    "        files = os.listdir(os.path.join(amos_path, folder, sub_folder))\n",
    "        for image in tqdm(files):\n",
    "            img_path = os.path.join(amos_path, folder, sub_folder, image)\n",
    "            image = Image.open(img_path)\n",
    "            image_array = np.asarray(image)\n",
    "            print(np.unique(image_array))\n",
    "            if image_array.shape[0] == image_array.shape[1]:\n",
    "                resize_square_image(img_path, img_path, 640)\n",
    "\n",
    "            else: # if the image is not a square delete it\n",
    "                # print(\"squared img detected\")\n",
    "                os.remove(img_path)\n"
   ],
   "id": "cc8a9dd2bb5d27b0",
   "outputs": [],
   "execution_count": null
  },
  {
   "metadata": {},
   "cell_type": "code",
   "source": "",
   "id": "7bb4eb9c5a4e7d5b",
   "outputs": [],
   "execution_count": null
  }
 ],
 "metadata": {
  "kernelspec": {
   "name": "python3",
   "language": "python",
   "display_name": "Python 3 (ipykernel)"
  }
 },
 "nbformat": 5,
 "nbformat_minor": 9
}
