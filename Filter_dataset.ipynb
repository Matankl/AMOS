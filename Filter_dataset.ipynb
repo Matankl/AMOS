{
 "cells": [
  {
   "metadata": {
    "ExecuteTime": {
     "end_time": "2025-01-12T18:19:35.582429Z",
     "start_time": "2025-01-12T18:19:35.579572Z"
    }
   },
   "cell_type": "code",
   "source": [
    "import os\n",
    "from PIL import Image\n",
    "import numpy as np\n",
    "from tqdm import tqdm"
   ],
   "id": "c8cf3118c6b7c113",
   "outputs": [],
   "execution_count": 7
  },
  {
   "metadata": {
    "ExecuteTime": {
     "end_time": "2025-01-12T18:19:35.592610Z",
     "start_time": "2025-01-12T18:19:35.588756Z"
    }
   },
   "cell_type": "code",
   "source": [
    "import sys\n",
    "import os\n",
    "from PIL import Image\n",
    "\n",
    "def resize_square_image(input_path: str, output_path: str, target_size: int) -> None:\n",
    "    \"\"\"\n",
    "    Resizes a square image to `target_size x target_size` using LANCZOS resampling.\n",
    "\n",
    "    Parameters:\n",
    "    -----------\n",
    "    input_path : str\n",
    "        Path to the input image (must be square).\n",
    "    output_path : str\n",
    "        Path to save the resized image.\n",
    "    target_size : int\n",
    "        Desired output size (width = height = target_size).\n",
    "    \"\"\"\n",
    "\n",
    "    # Load the image\n",
    "    with Image.open(input_path) as img:\n",
    "        # Optional check: Ensure the image is square\n",
    "        width, height = img.size\n",
    "        if width != height:\n",
    "            print(f\"Warning: The input image ({width}x{height}) is not square.\")\n",
    "            print(\"For best results, use a square image or consider cropping.\")\n",
    "\n",
    "        if width == height == 640:\n",
    "            return\n",
    "\n",
    "        # Resize using the high-quality LANCZOS filter\n",
    "        resized_img = img.resize((target_size, target_size), Image.LANCZOS)\n",
    "\n",
    "        # Save the resized image\n",
    "        resized_img.save(output_path)\n",
    "\n",
    "    # print(f\"Image '{input_path}' resized to {target_size}x{target_size} and saved as '{output_path}'.\")\n",
    "\n",
    "\n"
   ],
   "id": "199f407dc094ae6",
   "outputs": [],
   "execution_count": 8
  },
  {
   "metadata": {
    "jupyter": {
     "is_executing": true
    },
    "ExecuteTime": {
     "start_time": "2025-01-12T18:22:54.901755Z"
    }
   },
   "cell_type": "code",
   "source": [
    "amos_path = \"/Users/yp/PycharmProjects/AMOS/amos22\"\n",
    "folders = [\"Train\", \"Test\", \"Validation\"]\n",
    "sub_folder = [\"Input\", \"Label\"]\n",
    "\n",
    "for folder in folders:\n",
    "    for sub_folder in sub_folder:\n",
    "        files = os.listdir(os.path.join(amos_path, folder, sub_folder))\n",
    "        for image in tqdm(files):\n",
    "            img_path = os.path.join(amos_path, folder, sub_folder, image)\n",
    "            image = Image.open(img_path)\n",
    "            image_array = np.asarray(image)\n",
    "\n",
    "            if image_array.shape[0] == image_array.shape[1]:\n",
    "                resize_square_image(img_path, img_path, 640)\n",
    "\n",
    "            else: # if the image is not a square delete it\n",
    "                # print(\"squared img detected\")\n",
    "                os.remove(img_path)\n"
   ],
   "id": "cc8a9dd2bb5d27b0",
   "outputs": [
    {
     "name": "stderr",
     "output_type": "stream",
     "text": [
      " 26%|██▌       | 6866/26283 [02:00<36:46,  8.80it/s]"
     ]
    }
   ],
   "execution_count": null
  }
 ],
 "metadata": {
  "kernelspec": {
   "name": "python3",
   "language": "python",
   "display_name": "Python 3 (ipykernel)"
  }
 },
 "nbformat": 5,
 "nbformat_minor": 9
}
