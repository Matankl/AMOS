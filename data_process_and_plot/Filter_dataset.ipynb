{
 "cells": [
  {
   "metadata": {
    "ExecuteTime": {
<<<<<<< HEAD:data_prosses_and_plot/Filter_dataset.ipynb
     "end_time": "2025-01-13T14:08:47.259567Z",
     "start_time": "2025-01-13T14:08:47.048036Z"
=======
     "end_time": "2025-01-14T10:36:04.610457Z",
     "start_time": "2025-01-14T10:36:04.607064Z"
>>>>>>> origin/master:data_process_and_plot/Filter_dataset.ipynb
    }
   },
   "cell_type": "code",
   "source": [
    "import os\n",
    "from PIL import Image\n",
    "import numpy as np\n",
    "from tqdm import tqdm"
   ],
   "id": "c8cf3118c6b7c113",
   "outputs": [],
<<<<<<< HEAD:data_prosses_and_plot/Filter_dataset.ipynb
   "execution_count": 1
=======
   "execution_count": 50
>>>>>>> origin/master:data_process_and_plot/Filter_dataset.ipynb
  },
  {
   "metadata": {
    "ExecuteTime": {
<<<<<<< HEAD:data_prosses_and_plot/Filter_dataset.ipynb
     "end_time": "2025-01-13T14:08:47.277857Z",
     "start_time": "2025-01-13T14:08:47.269403Z"
=======
     "end_time": "2025-01-14T10:36:04.618955Z",
     "start_time": "2025-01-14T10:36:04.615318Z"
>>>>>>> origin/master:data_process_and_plot/Filter_dataset.ipynb
    }
   },
   "cell_type": "code",
   "source": [
    "def resize_square_image(input_path: str, output_path: str, target_size: int) -> None:\n",
    "    \"\"\"\n",
    "    Resizes a square image to `target_size x target_size` using LANCZOS resampling.\n",
    "\n",
    "    Parameters:\n",
    "    -----------\n",
    "    input_path : str\n",
    "        Path to the input image (must be square).\n",
    "    output_path : str\n",
    "        Path to save the resized image.\n",
    "    target_size : int\n",
    "        Desired output size (width = height = target_size).\n",
    "    \"\"\"\n",
    "\n",
    "    # Load the image\n",
    "    with Image.open(input_path) as img:\n",
    "        # Optional check: Ensure the image is square\n",
    "        width, height = img.size\n",
    "        if width != height:\n",
    "            print(f\"Warning: The input image ({width}x{height}) is not square.\")\n",
    "            print(\"For best results, use a square image or consider cropping.\")\n",
    "\n",
    "        if width == height == 640:\n",
    "            return\n",
    "\n",
    "        # Resize using the high-quality LANCZOS filter\n",
    "        resized_img = img.resize((target_size, target_size), Image.NEAREST)\n",
    "\n",
    "        # Save the resized image\n",
    "        resized_img.save(output_path)\n",
    "\n",
    "    # print(f\"Image '{input_path}' resized to {target_size}x{target_size} and saved as '{output_path}'.\")\n",
    "\n",
    "\n",
    "\"Test\","
   ],
   "id": "199f407dc094ae6",
   "outputs": [],
<<<<<<< HEAD:data_prosses_and_plot/Filter_dataset.ipynb
   "execution_count": 2
=======
   "execution_count": 51
>>>>>>> origin/master:data_process_and_plot/Filter_dataset.ipynb
  },
  {
   "metadata": {
    "ExecuteTime": {
<<<<<<< HEAD:data_prosses_and_plot/Filter_dataset.ipynb
     "end_time": "2025-01-13T15:44:07.876745Z",
     "start_time": "2025-01-13T14:55:09.994349Z"
=======
     "end_time": "2025-01-14T11:18:36.212731Z",
     "start_time": "2025-01-14T10:36:04.626243Z"
>>>>>>> origin/master:data_process_and_plot/Filter_dataset.ipynb
    }
   },
   "cell_type": "code",
   "source": [
<<<<<<< HEAD:data_prosses_and_plot/Filter_dataset.ipynb
    "amos_path = \"/home/or/Desktop/DataSets/AMOS/amos22\"\n",
    "# folders = [\"Train\", \"Test\", \"Validation\"]\n",
    "folders = [  \"Train\"]\n",
    "sub_folder = [\"input\", \"label\"]\n",
    "# sub_folder = [ \"label\"]\n",
=======
    "amos_path = \"../amos22\"\n",
    "folders = [\"Validation\", \"Train\", \"Test\"]\n",
    "sub_folders = [\"input\", \"label\"]\n",
>>>>>>> origin/master:data_process_and_plot/Filter_dataset.ipynb
    "\n",
    "#filetering out none square images and resizing the others to 640X640\n",
    "for folder in folders:\n",
    "    for sub_folder in sub_folders:\n",
    "        files = os.listdir(os.path.join(amos_path, folder, sub_folder))\n",
    "        print(os.path.join(amos_path, folder, sub_folder))\n",
    "        for image in tqdm(files):\n",
    "            img_path = os.path.join(amos_path, folder, sub_folder, image)\n",
    "            image = Image.open(img_path)\n",
    "            image_array = np.asarray(image)\n",
<<<<<<< HEAD:data_prosses_and_plot/Filter_dataset.ipynb
    "            # print(np.unique(image_array))\n",
=======
    "\n",
    "            if image_array.shape[0] != image_array.shape[1]:\n",
    "                os.remove(img_path)\n",
    "                continue\n",
    "\n",
    "            if image_array.shape[0] == image_array.shape[1] == 640:\n",
    "                continue\n",
    "\n",
>>>>>>> origin/master:data_process_and_plot/Filter_dataset.ipynb
    "            if image_array.shape[0] == image_array.shape[1]:\n",
    "                resize_square_image(img_path, img_path, 640)\n",
    "\n"
   ],
   "id": "cc8a9dd2bb5d27b0",
   "outputs": [
    {
<<<<<<< HEAD:data_prosses_and_plot/Filter_dataset.ipynb
     "name": "stdout",
     "output_type": "stream",
     "text": [
      "/home/or/Desktop/DataSets/AMOS/amos22/Train/input\n"
     ]
    },
    {
     "name": "stderr",
     "output_type": "stream",
     "text": [
      "100%|██████████| 35524/35524 [46:18<00:00, 12.78it/s]  \n"
     ]
    },
    {
     "name": "stdout",
     "output_type": "stream",
     "text": [
      "/home/or/Desktop/DataSets/AMOS/amos22/Train/label\n"
     ]
    },
    {
     "name": "stderr",
     "output_type": "stream",
     "text": [
      "100%|██████████| 35524/35524 [02:38<00:00, 223.48it/s]\n"
     ]
    }
   ],
   "execution_count": 6
  },
  {
   "metadata": {},
   "cell_type": "code",
   "source": "",
   "id": "7bb4eb9c5a4e7d5b",
   "outputs": [],
   "execution_count": null
=======
     "name": "stderr",
     "output_type": "stream",
     "text": [
      "100%|██████████| 9657/9657 [10:54<00:00, 14.75it/s]\n",
      "100%|██████████| 9657/9657 [00:54<00:00, 178.00it/s]\n",
      "100%|██████████| 26283/26283 [04:58<00:00, 88.10it/s]\n",
      "100%|██████████| 26283/26283 [00:51<00:00, 515.33it/s]\n",
      "100%|██████████| 8880/8880 [23:39<00:00,  6.25it/s]   \n",
      "100%|██████████| 8880/8880 [01:13<00:00, 121.44it/s]\n"
     ]
    }
   ],
   "execution_count": 52
>>>>>>> origin/master:data_process_and_plot/Filter_dataset.ipynb
  }
 ],
 "metadata": {
  "kernelspec": {
   "name": "python3",
   "language": "python",
   "display_name": "Python 3 (ipykernel)"
  }
 },
 "nbformat": 5,
 "nbformat_minor": 9
}
