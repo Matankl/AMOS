{
 "cells": [
  {
   "metadata": {
    "ExecuteTime": {
     "end_time": "2025-01-14T15:52:59.631105Z",
     "start_time": "2025-01-14T15:52:58.868328Z"
    }
   },
   "cell_type": "code",
   "source": [
    "import os\n",
    "from PIL import Image\n",
    "import numpy as np\n",
    "from tqdm import tqdm"
   ],
   "id": "c8cf3118c6b7c113",
   "outputs": [],
   "execution_count": 1
  },
  {
   "metadata": {
    "ExecuteTime": {
     "end_time": "2025-01-14T10:36:04.618955Z",
     "start_time": "2025-01-14T10:36:04.615318Z"
    }
   },
   "cell_type": "code",
   "source": [
    "def resize_square_image(input_path: str, output_path: str, target_size: int) -> None:\n",
    "    \"\"\"\n",
    "    Resizes a square image to `target_size x target_size` using LANCZOS resampling.\n",
    "\n",
    "    Parameters:\n",
    "    -----------\n",
    "    input_path : str\n",
    "        Path to the input image (must be square).\n",
    "    output_path : str\n",
    "        Path to save the resized image.\n",
    "    target_size : int\n",
    "        Desired output size (width = height = target_size).\n",
    "    \"\"\"\n",
    "\n",
    "    # Load the image\n",
    "    with Image.open(input_path) as img:\n",
    "        # Optional check: Ensure the image is square\n",
    "        width, height = img.size\n",
    "        if width != height:\n",
    "            print(f\"Warning: The input image ({width}x{height}) is not square.\")\n",
    "            print(\"For best results, use a square image or consider cropping.\")\n",
    "\n",
    "        if width == height == 640:\n",
    "            return\n",
    "\n",
    "        # Resize using the high-quality LANCZOS filter\n",
    "        resized_img = img.resize((target_size, target_size), Image.NEAREST)\n",
    "\n",
    "        # Save the resized image\n",
    "        resized_img.save(output_path)\n",
    "\n",
    "    # print(f\"Image '{input_path}' resized to {target_size}x{target_size} and saved as '{output_path}'.\")\n"
   ],
   "id": "199f407dc094ae6",
   "outputs": [],
   "execution_count": 51
  },
  {
   "metadata": {
    "ExecuteTime": {
     "end_time": "2025-01-14T11:18:36.212731Z",
     "start_time": "2025-01-14T10:36:04.626243Z"
    }
   },
   "cell_type": "code",
   "source": [
    "amos_path = \"../amos22\"\n",
    "folders = [\"Validation\", \"Train\", \"Test\"]\n",
    "sub_folders = [\"input\", \"label\"]\n",
    "\n",
    "#filetering out none square images and resizing the others to 640X640\n",
    "for folder in folders:\n",
    "    for sub_folder in sub_folders:\n",
    "        files = os.listdir(os.path.join(amos_path, folder, sub_folder))\n",
    "        for image in tqdm(files):\n",
    "            img_path = os.path.join(amos_path, folder, sub_folder, image)\n",
    "            image = Image.open(img_path)\n",
    "            image_array = np.asarray(image)\n",
    "\n",
    "            if image_array.shape[0] != image_array.shape[1]:\n",
    "                os.remove(img_path)\n",
    "                continue\n",
    "\n",
    "            if image_array.shape[0] == image_array.shape[1] == 640:\n",
    "                continue\n",
    "\n",
    "            if image_array.shape[0] == image_array.shape[1]:\n",
    "                resize_square_image(img_path, img_path, 640)\n",
    "\n"
   ],
   "id": "cc8a9dd2bb5d27b0",
   "outputs": [
    {
     "name": "stderr",
     "output_type": "stream",
     "text": [
      "100%|██████████| 9657/9657 [10:54<00:00, 14.75it/s]\n",
      "100%|██████████| 9657/9657 [00:54<00:00, 178.00it/s]\n",
      "100%|██████████| 26283/26283 [04:58<00:00, 88.10it/s]\n",
      "100%|██████████| 26283/26283 [00:51<00:00, 515.33it/s]\n",
      "100%|██████████| 8880/8880 [23:39<00:00,  6.25it/s]   \n",
      "100%|██████████| 8880/8880 [01:13<00:00, 121.44it/s]\n"
     ]
    }
   ],
   "execution_count": 52
  }
 ],
 "metadata": {
  "kernelspec": {
   "name": "python3",
   "language": "python",
   "display_name": "Python 3 (ipykernel)"
  }
 },
 "nbformat": 5,
 "nbformat_minor": 9
}
