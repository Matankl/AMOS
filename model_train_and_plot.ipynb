{
 "cells": [
  {
   "cell_type": "code",
   "id": "885a7230d955be6c",
   "metadata": {
    "ExecuteTime": {
     "end_time": "2025-01-02T11:54:13.567009Z",
     "start_time": "2025-01-02T11:54:11.576663Z"
    }
   },
   "source": [
    "import torch\n",
    "import train_methods as tm\n",
    "from tqdm import tqdm\n",
    "from UNet import Unet\n",
    "import os\n",
    "import nibabel as nib\n",
    "import numpy as np\n",
    "import matplotlib.pyplot as plt"
   ],
   "outputs": [],
   "execution_count": 1
  },
  {
   "metadata": {
    "ExecuteTime": {
     "end_time": "2025-01-02T11:54:15.485437Z",
     "start_time": "2025-01-02T11:54:13.571449Z"
    }
   },
   "cell_type": "code",
   "source": [
    "# global var\n",
    "C = 16                  # number of channels to give the model\n",
    "batch_size = 16\n",
    "epochs = 5\n",
    "learning_rate = 1e-2\n",
    "# act_batch_size = 1\n",
    "momentum = 0.99\n",
    "device = \"cuda\" if torch.cuda.is_available() else \"cpu\"\n",
    "channels = [C, 64, 128, 256, 512, 1024]\n",
    "w0 = 10\n",
    "sigma = 5\n",
    "model_path = './model.pt'\n",
    "Train_image_dir = 'imagesTr'\n",
    "Train_label_dir = 'labelsTr'\n",
    "Val_image_dir = 'imagesVa'\n",
    "Val_label_dir = 'labelsVa'"
   ],
   "id": "2b1ea62122d9b89",
   "outputs": [
    {
     "name": "stderr",
     "output_type": "stream",
     "text": [
      "/home/or/.local/lib/python3.10/site-packages/torch/cuda/__init__.py:129: UserWarning: CUDA initialization: CUDA unknown error - this may be due to an incorrectly set up environment, e.g. changing env variable CUDA_VISIBLE_DEVICES after program start. Setting the available devices to be zero. (Triggered internally at ../c10/cuda/CUDAFunctions.cpp:108.)\n",
      "  return torch._C._cuda_getDeviceCount() > 0\n"
     ]
    }
   ],
   "execution_count": 2
  },
  {
   "metadata": {
    "ExecuteTime": {
     "end_time": "2025-01-02T11:54:15.820814Z",
     "start_time": "2025-01-02T11:54:15.553689Z"
    }
   },
   "cell_type": "code",
   "source": [
    "# Early stopping\n",
    "es = tm.EarlyStopping(patience=100, fname=model_path)\n",
    "\n",
    "\n",
    "# debug\n",
    "imagesTR_len = len(os.listdir(\"/home/or/PycharmProjects/AMOS/imagesTr\"))\n",
    "print(f\"Number of files in imagesTr: {imagesTR_len}\")\n",
    "\n",
    "\n",
    "# Make progress bars\n",
    "pbar_epoch = tqdm(total=epochs, unit='epoch', position=0, leave=False)\n",
    "pbar_train = tqdm(total=imagesTR_len, unit='batch', position=1, leave=False)\n",
    "\n",
    "# Make model\n",
    "model = Unet(channels=channels, no_classes=1).double().to(device)\n",
    "\n",
    "# Make adam optimiser\n",
    "optimizer = torch.optim.Adam(\n",
    "    model.parameters(),\n",
    "    lr=0.001,  # Learning rate\n",
    "    betas=(0.9, 0.999),  # Coefficients used for computing running averages of gradient and its square\n",
    "    eps=1e-08,  # Term added to denominator to improve numerical stability\n",
    "    weight_decay=0  # Weight decay (L2 penalty)\n",
    ")\n",
    "\n",
    "# Make loss\n",
    "criterion = torch.nn.CrossEntropyLoss()"
   ],
   "id": "a0351fedc6008a6a",
   "outputs": [
    {
     "name": "stdout",
     "output_type": "stream",
     "text": [
      "Number of files in imagesTr: 240\n"
     ]
    },
    {
     "name": "stderr",
     "output_type": "stream",
     "text": [
      "  0%|          | 0/5 [00:00<?, ?epoch/s]\n",
      "  0%|          | 0/240 [00:00<?, ?batch/s]\u001B[A"
     ]
    }
   ],
   "execution_count": 3
  },
  {
   "metadata": {
    "collapsed": true,
    "ExecuteTime": {
     "end_time": "2025-01-02T11:54:16.196040Z",
     "start_time": "2025-01-02T11:54:15.826981Z"
    }
   },
   "cell_type": "code",
   "source": [
    "# Load checkpoint (if it exists)\n",
    "cur_epoch = 0\n",
    "if os.path.isfile(model_path):\n",
    "    checkpoint = torch.load(model_path)\n",
    "    cur_epoch = checkpoint['epoch']\n",
    "    es.best_loss = checkpoint['loss']\n",
    "    model.load_state_dict(checkpoint['model_state_dict'])\n",
    "    optimizer.load_state_dict(checkpoint['optimizer_state_dict'])\n",
    "\n",
    "# Hold stats for training process\n",
    "stats = {'epoch': [], 'train_loss': [], 'val_loss': []}\n",
    "\n",
    "# Training  / validation loop\n",
    "for epoch in range(cur_epoch, epochs):\n",
    "    print(f\"Epoch {epoch + 1}/{epochs}\")\n",
    "\n",
    "    # Train / validate\n",
    "    pbar_epoch.set_description_str(f'Epoch {epoch + 1}')\n",
    "    train_loss = tm.train(model, optimizer, batch_size, Train_image_dir, Train_label_dir, criterion, device)\n",
    "    val_loss = tm.validate(model, batch_size, Val_image_dir,Val_label_dir, criterion, device)\n",
    "\n",
    "\n",
    "    # Append stats\n",
    "    stats['epoch'].append(epoch)\n",
    "    stats['train_loss'].append(train_loss)\n",
    "    stats['val_loss'].append(val_loss)\n",
    "\n",
    "    # Early stopping (just saves model if validation loss decreases when: pass)\n",
    "    if es(epoch, val_loss, optimizer, model): pass\n",
    "\n",
    "    # Update progress bars\n",
    "    pbar_epoch.set_postfix(train_loss=train_loss, val_loss=val_loss)\n",
    "    pbar_epoch.update(1)\n",
    "    pbar_train.reset()"
   ],
   "id": "initial_id",
   "outputs": [
    {
     "name": "stderr",
     "output_type": "stream",
     "text": [
      "Epoch 1:   0%|          | 0/5 [00:00<?, ?epoch/s]"
     ]
    },
    {
     "name": "stdout",
     "output_type": "stream",
     "text": [
      "Epoch 1/5\n"
     ]
    },
    {
     "ename": "UnidentifiedImageError",
     "evalue": "cannot identify image file '/home/or/PycharmProjects/AMOS/imagesTr/amos_0142.nii.gz'",
     "output_type": "error",
     "traceback": [
      "\u001B[0;31m---------------------------------------------------------------------------\u001B[0m",
      "\u001B[0;31mUnidentifiedImageError\u001B[0m                    Traceback (most recent call last)",
      "Cell \u001B[0;32mIn[4], line 19\u001B[0m\n\u001B[1;32m     17\u001B[0m \u001B[38;5;66;03m# Train / validate\u001B[39;00m\n\u001B[1;32m     18\u001B[0m pbar_epoch\u001B[38;5;241m.\u001B[39mset_description_str(\u001B[38;5;124mf\u001B[39m\u001B[38;5;124m'\u001B[39m\u001B[38;5;124mEpoch \u001B[39m\u001B[38;5;132;01m{\u001B[39;00mepoch\u001B[38;5;250m \u001B[39m\u001B[38;5;241m+\u001B[39m\u001B[38;5;250m \u001B[39m\u001B[38;5;241m1\u001B[39m\u001B[38;5;132;01m}\u001B[39;00m\u001B[38;5;124m'\u001B[39m)\n\u001B[0;32m---> 19\u001B[0m train_loss \u001B[38;5;241m=\u001B[39m \u001B[43mtm\u001B[49m\u001B[38;5;241;43m.\u001B[39;49m\u001B[43mtrain\u001B[49m\u001B[43m(\u001B[49m\u001B[43mmodel\u001B[49m\u001B[43m,\u001B[49m\u001B[43m \u001B[49m\u001B[43moptimizer\u001B[49m\u001B[43m,\u001B[49m\u001B[43m \u001B[49m\u001B[43mbatch_size\u001B[49m\u001B[43m,\u001B[49m\u001B[43m \u001B[49m\u001B[43mTrain_image_dir\u001B[49m\u001B[43m,\u001B[49m\u001B[43m \u001B[49m\u001B[43mTrain_label_dir\u001B[49m\u001B[43m,\u001B[49m\u001B[43m \u001B[49m\u001B[43mcriterion\u001B[49m\u001B[43m,\u001B[49m\u001B[43m \u001B[49m\u001B[43mdevice\u001B[49m\u001B[43m)\u001B[49m\n\u001B[1;32m     20\u001B[0m val_loss \u001B[38;5;241m=\u001B[39m tm\u001B[38;5;241m.\u001B[39mvalidate(model, batch_size, Val_image_dir,Val_label_dir, criterion, device)\n\u001B[1;32m     23\u001B[0m \u001B[38;5;66;03m# Append stats\u001B[39;00m\n",
      "File \u001B[0;32m~/PycharmProjects/AMOS/train_methods.py:37\u001B[0m, in \u001B[0;36mtrain\u001B[0;34m(model, optimizer, batch_size, image_dir, label_dir, criterion, device)\u001B[0m\n\u001B[1;32m     34\u001B[0m model\u001B[38;5;241m.\u001B[39mto(device)\n\u001B[1;32m     36\u001B[0m train_loss \u001B[38;5;241m=\u001B[39m \u001B[38;5;241m0.0\u001B[39m\n\u001B[0;32m---> 37\u001B[0m \u001B[38;5;28;01mfor\u001B[39;00m images, labels \u001B[38;5;129;01min\u001B[39;00m train_loader:\n\u001B[1;32m     38\u001B[0m     images, labels \u001B[38;5;241m=\u001B[39m images\u001B[38;5;241m.\u001B[39mto(device), labels\u001B[38;5;241m.\u001B[39mto(device)\n\u001B[1;32m     40\u001B[0m     \u001B[38;5;66;03m# Forward pass\u001B[39;00m\n",
      "File \u001B[0;32m~/.local/lib/python3.10/site-packages/torch/utils/data/dataloader.py:701\u001B[0m, in \u001B[0;36m_BaseDataLoaderIter.__next__\u001B[0;34m(self)\u001B[0m\n\u001B[1;32m    698\u001B[0m \u001B[38;5;28;01mif\u001B[39;00m \u001B[38;5;28mself\u001B[39m\u001B[38;5;241m.\u001B[39m_sampler_iter \u001B[38;5;129;01mis\u001B[39;00m \u001B[38;5;28;01mNone\u001B[39;00m:\n\u001B[1;32m    699\u001B[0m     \u001B[38;5;66;03m# TODO(https://github.com/pytorch/pytorch/issues/76750)\u001B[39;00m\n\u001B[1;32m    700\u001B[0m     \u001B[38;5;28mself\u001B[39m\u001B[38;5;241m.\u001B[39m_reset()  \u001B[38;5;66;03m# type: ignore[call-arg]\u001B[39;00m\n\u001B[0;32m--> 701\u001B[0m data \u001B[38;5;241m=\u001B[39m \u001B[38;5;28;43mself\u001B[39;49m\u001B[38;5;241;43m.\u001B[39;49m\u001B[43m_next_data\u001B[49m\u001B[43m(\u001B[49m\u001B[43m)\u001B[49m\n\u001B[1;32m    702\u001B[0m \u001B[38;5;28mself\u001B[39m\u001B[38;5;241m.\u001B[39m_num_yielded \u001B[38;5;241m+\u001B[39m\u001B[38;5;241m=\u001B[39m \u001B[38;5;241m1\u001B[39m\n\u001B[1;32m    703\u001B[0m \u001B[38;5;28;01mif\u001B[39;00m (\n\u001B[1;32m    704\u001B[0m     \u001B[38;5;28mself\u001B[39m\u001B[38;5;241m.\u001B[39m_dataset_kind \u001B[38;5;241m==\u001B[39m _DatasetKind\u001B[38;5;241m.\u001B[39mIterable\n\u001B[1;32m    705\u001B[0m     \u001B[38;5;129;01mand\u001B[39;00m \u001B[38;5;28mself\u001B[39m\u001B[38;5;241m.\u001B[39m_IterableDataset_len_called \u001B[38;5;129;01mis\u001B[39;00m \u001B[38;5;129;01mnot\u001B[39;00m \u001B[38;5;28;01mNone\u001B[39;00m\n\u001B[1;32m    706\u001B[0m     \u001B[38;5;129;01mand\u001B[39;00m \u001B[38;5;28mself\u001B[39m\u001B[38;5;241m.\u001B[39m_num_yielded \u001B[38;5;241m>\u001B[39m \u001B[38;5;28mself\u001B[39m\u001B[38;5;241m.\u001B[39m_IterableDataset_len_called\n\u001B[1;32m    707\u001B[0m ):\n",
      "File \u001B[0;32m~/.local/lib/python3.10/site-packages/torch/utils/data/dataloader.py:757\u001B[0m, in \u001B[0;36m_SingleProcessDataLoaderIter._next_data\u001B[0;34m(self)\u001B[0m\n\u001B[1;32m    755\u001B[0m \u001B[38;5;28;01mdef\u001B[39;00m \u001B[38;5;21m_next_data\u001B[39m(\u001B[38;5;28mself\u001B[39m):\n\u001B[1;32m    756\u001B[0m     index \u001B[38;5;241m=\u001B[39m \u001B[38;5;28mself\u001B[39m\u001B[38;5;241m.\u001B[39m_next_index()  \u001B[38;5;66;03m# may raise StopIteration\u001B[39;00m\n\u001B[0;32m--> 757\u001B[0m     data \u001B[38;5;241m=\u001B[39m \u001B[38;5;28;43mself\u001B[39;49m\u001B[38;5;241;43m.\u001B[39;49m\u001B[43m_dataset_fetcher\u001B[49m\u001B[38;5;241;43m.\u001B[39;49m\u001B[43mfetch\u001B[49m\u001B[43m(\u001B[49m\u001B[43mindex\u001B[49m\u001B[43m)\u001B[49m  \u001B[38;5;66;03m# may raise StopIteration\u001B[39;00m\n\u001B[1;32m    758\u001B[0m     \u001B[38;5;28;01mif\u001B[39;00m \u001B[38;5;28mself\u001B[39m\u001B[38;5;241m.\u001B[39m_pin_memory:\n\u001B[1;32m    759\u001B[0m         data \u001B[38;5;241m=\u001B[39m _utils\u001B[38;5;241m.\u001B[39mpin_memory\u001B[38;5;241m.\u001B[39mpin_memory(data, \u001B[38;5;28mself\u001B[39m\u001B[38;5;241m.\u001B[39m_pin_memory_device)\n",
      "File \u001B[0;32m~/.local/lib/python3.10/site-packages/torch/utils/data/_utils/fetch.py:52\u001B[0m, in \u001B[0;36m_MapDatasetFetcher.fetch\u001B[0;34m(self, possibly_batched_index)\u001B[0m\n\u001B[1;32m     50\u001B[0m         data \u001B[38;5;241m=\u001B[39m \u001B[38;5;28mself\u001B[39m\u001B[38;5;241m.\u001B[39mdataset\u001B[38;5;241m.\u001B[39m__getitems__(possibly_batched_index)\n\u001B[1;32m     51\u001B[0m     \u001B[38;5;28;01melse\u001B[39;00m:\n\u001B[0;32m---> 52\u001B[0m         data \u001B[38;5;241m=\u001B[39m [\u001B[38;5;28mself\u001B[39m\u001B[38;5;241m.\u001B[39mdataset[idx] \u001B[38;5;28;01mfor\u001B[39;00m idx \u001B[38;5;129;01min\u001B[39;00m possibly_batched_index]\n\u001B[1;32m     53\u001B[0m \u001B[38;5;28;01melse\u001B[39;00m:\n\u001B[1;32m     54\u001B[0m     data \u001B[38;5;241m=\u001B[39m \u001B[38;5;28mself\u001B[39m\u001B[38;5;241m.\u001B[39mdataset[possibly_batched_index]\n",
      "File \u001B[0;32m~/.local/lib/python3.10/site-packages/torch/utils/data/_utils/fetch.py:52\u001B[0m, in \u001B[0;36m<listcomp>\u001B[0;34m(.0)\u001B[0m\n\u001B[1;32m     50\u001B[0m         data \u001B[38;5;241m=\u001B[39m \u001B[38;5;28mself\u001B[39m\u001B[38;5;241m.\u001B[39mdataset\u001B[38;5;241m.\u001B[39m__getitems__(possibly_batched_index)\n\u001B[1;32m     51\u001B[0m     \u001B[38;5;28;01melse\u001B[39;00m:\n\u001B[0;32m---> 52\u001B[0m         data \u001B[38;5;241m=\u001B[39m [\u001B[38;5;28;43mself\u001B[39;49m\u001B[38;5;241;43m.\u001B[39;49m\u001B[43mdataset\u001B[49m\u001B[43m[\u001B[49m\u001B[43midx\u001B[49m\u001B[43m]\u001B[49m \u001B[38;5;28;01mfor\u001B[39;00m idx \u001B[38;5;129;01min\u001B[39;00m possibly_batched_index]\n\u001B[1;32m     53\u001B[0m \u001B[38;5;28;01melse\u001B[39;00m:\n\u001B[1;32m     54\u001B[0m     data \u001B[38;5;241m=\u001B[39m \u001B[38;5;28mself\u001B[39m\u001B[38;5;241m.\u001B[39mdataset[possibly_batched_index]\n",
      "File \u001B[0;32m~/PycharmProjects/AMOS/train_methods.py:110\u001B[0m, in \u001B[0;36mImageDataset.__getitem__\u001B[0;34m(self, idx)\u001B[0m\n\u001B[1;32m    107\u001B[0m image_path \u001B[38;5;241m=\u001B[39m os\u001B[38;5;241m.\u001B[39mpath\u001B[38;5;241m.\u001B[39mjoin(\u001B[38;5;28mself\u001B[39m\u001B[38;5;241m.\u001B[39mimage_dir, \u001B[38;5;28mself\u001B[39m\u001B[38;5;241m.\u001B[39mimage_filenames[idx])\n\u001B[1;32m    108\u001B[0m label_path \u001B[38;5;241m=\u001B[39m os\u001B[38;5;241m.\u001B[39mpath\u001B[38;5;241m.\u001B[39mjoin(\u001B[38;5;28mself\u001B[39m\u001B[38;5;241m.\u001B[39mlabel_dir, \u001B[38;5;28mself\u001B[39m\u001B[38;5;241m.\u001B[39mlabel_filenames[idx])\n\u001B[0;32m--> 110\u001B[0m image \u001B[38;5;241m=\u001B[39m \u001B[43mImage\u001B[49m\u001B[38;5;241;43m.\u001B[39;49m\u001B[43mopen\u001B[49m\u001B[43m(\u001B[49m\u001B[43mimage_path\u001B[49m\u001B[43m)\u001B[49m\u001B[38;5;241m.\u001B[39mconvert(\u001B[38;5;124m\"\u001B[39m\u001B[38;5;124mRGB\u001B[39m\u001B[38;5;124m\"\u001B[39m)\n\u001B[1;32m    111\u001B[0m label \u001B[38;5;241m=\u001B[39m Image\u001B[38;5;241m.\u001B[39mopen(label_path)\u001B[38;5;241m.\u001B[39mconvert(\u001B[38;5;124m\"\u001B[39m\u001B[38;5;124mL\u001B[39m\u001B[38;5;124m\"\u001B[39m)\n\u001B[1;32m    113\u001B[0m \u001B[38;5;28;01mif\u001B[39;00m \u001B[38;5;28mself\u001B[39m\u001B[38;5;241m.\u001B[39mtransform:\n",
      "File \u001B[0;32m~/miniconda3/envs/myenv/lib/python3.10/site-packages/PIL/Image.py:3536\u001B[0m, in \u001B[0;36mopen\u001B[0;34m(fp, mode, formats)\u001B[0m\n\u001B[1;32m   3534\u001B[0m     warnings\u001B[38;5;241m.\u001B[39mwarn(message)\n\u001B[1;32m   3535\u001B[0m msg \u001B[38;5;241m=\u001B[39m \u001B[38;5;124m\"\u001B[39m\u001B[38;5;124mcannot identify image file \u001B[39m\u001B[38;5;132;01m%r\u001B[39;00m\u001B[38;5;124m\"\u001B[39m \u001B[38;5;241m%\u001B[39m (filename \u001B[38;5;28;01mif\u001B[39;00m filename \u001B[38;5;28;01melse\u001B[39;00m fp)\n\u001B[0;32m-> 3536\u001B[0m \u001B[38;5;28;01mraise\u001B[39;00m UnidentifiedImageError(msg)\n",
      "\u001B[0;31mUnidentifiedImageError\u001B[0m: cannot identify image file '/home/or/PycharmProjects/AMOS/imagesTr/amos_0142.nii.gz'"
     ]
    }
   ],
   "execution_count": 4
  },
  {
   "metadata": {},
   "cell_type": "code",
   "source": "",
   "id": "4c7ecbb72ed5895",
   "outputs": [],
   "execution_count": null
  },
  {
   "metadata": {},
   "cell_type": "code",
   "source": [
    "\n",
    "# Define the directory containing .nii.gz files\n",
    "directory_path = Train_image_dir  # Replace with the path to your directory\n",
    "\n",
    "global_count = 0\n",
    "count = 0\n",
    "# Iterate over all files in the directory\n",
    "for filename in os.listdir(directory_path):\n",
    "    if filename.endswith('.nii.gz'):  # Check if the file is a .nii.gz file\n",
    "        file_path = os.path.join(directory_path, filename)\n",
    "\n",
    "        try:\n",
    "            # Load the NIfTI file\n",
    "            img = nib.load(file_path)\n",
    "            data = img.get_fdata()\n",
    "\n",
    "            # Print the filename and shape of the image\n",
    "            if data.shape[0] == data.shape[1]:\n",
    "                count += data.shape[2]\n",
    "            print(f\"File: {filename}, Shape: {data.shape}\")\n",
    "            global_count += data.shape[2]\n",
    "        except Exception as e:\n",
    "            print(f\"Could not read file {filename}: {e}\")\n",
    "\n",
    "print(f\"The amount of right pictures {count}\")\n",
    "print(f\"the overall number of picture {global_count}\")\n"
   ],
   "id": "ca690202ea6afd77",
   "outputs": [],
   "execution_count": null
  },
  {
   "metadata": {},
   "cell_type": "code",
   "source": "",
   "id": "36df2499f771d1fe",
   "outputs": [],
   "execution_count": null
  },
  {
   "metadata": {},
   "cell_type": "code",
   "source": [
    "# Define directories\n",
    "Train_image_dir = 'imagesTr'\n",
    "Train_label_dir = 'labelsTr'\n",
    "\n",
    "# Get list of file names in each directory\n",
    "image_files = set(os.listdir(Train_image_dir))\n",
    "label_files = set(os.listdir(Train_label_dir))\n",
    "\n",
    "# Find files in imagesTr but not in labelsTr\n",
    "extra_image_files = image_files - label_files\n",
    "\n",
    "# Print the results\n",
    "if extra_image_files:\n",
    "    print(\"Files in 'imagesTr' but not in 'labelsTr':\")\n",
    "    for file in extra_image_files:\n",
    "        print(file)\n",
    "else:\n",
    "    print(\"No extra files in 'imagesTr'.\")\n"
   ],
   "id": "8e82d933d143cbd5",
   "outputs": [],
   "execution_count": null
  },
  {
   "metadata": {},
   "cell_type": "code",
   "source": "",
   "id": "b694e57ffb3ccb18",
   "outputs": [],
   "execution_count": null
  },
  {
   "metadata": {},
   "cell_type": "code",
   "source": [
    "# load model\n",
    "\n",
    "model      = Unet(channels = channels, no_classes = 1).double().to(device)\n",
    "checkpoint = torch.load(model_path)\n",
    "model.load_state_dict(checkpoint['model_state_dict'])\n",
    "model.eval()\n",
    "\n",
    "# Make loss\n",
    "criterion = torch.CrossEntropyLoss()\n",
    "with torch.no_grad():\n",
    "\n",
    "    for  (X, y) in enumerate(test_loader):\n",
    "\n",
    "        # Forward\n",
    "        y_hat = model(X)\n",
    "        y_hat = torch.sigmoid(y_hat)\n",
    "\n",
    "\n",
    "        # Convert to numpy\n",
    "        X = np.squeeze(X.cpu().numpy())\n",
    "        y = np.squeeze(y.cpu().numpy())\n",
    "        y_hat = np.squeeze(y_hat.detach().cpu().numpy())\n",
    "\n",
    "        # Make mask\n",
    "        y_hat2 = y_hat > 0.5\n",
    "\n",
    "        # plot\n",
    "        fig, ax = plt.subplots(nrows = 1, ncols = 2, figsize = (8, 8))\n",
    "\n",
    "        ax[0].imshow(y, 'gray', interpolation = None)\n",
    "        ax[0].axis('off');\n",
    "        ax[0].set_title('Target');\n",
    "\n",
    "        ax[1].imshow(y_hat, 'gray', interpolation = None)\n",
    "        ax[1].axis('off');\n",
    "        ax[1].set_title('Prediction');"
   ],
   "id": "bb3de8c7d992d3bf",
   "outputs": [],
   "execution_count": null
  },
  {
   "metadata": {},
   "cell_type": "code",
   "source": "",
   "id": "1e9a866d9a6f2c9",
   "outputs": [],
   "execution_count": null
  },
  {
   "metadata": {},
   "cell_type": "code",
   "source": "",
   "id": "e0a96e87a9a92b66",
   "outputs": [],
   "execution_count": null
  },
  {
   "metadata": {},
   "cell_type": "code",
   "source": "",
   "id": "6adb1ea26f1df63b",
   "outputs": [],
   "execution_count": null
  }
 ],
 "metadata": {
  "kernelspec": {
   "display_name": "Python 3",
   "language": "python",
   "name": "python3"
  },
  "language_info": {
   "codemirror_mode": {
    "name": "ipython",
    "version": 2
   },
   "file_extension": ".py",
   "mimetype": "text/x-python",
   "name": "python",
   "nbconvert_exporter": "python",
   "pygments_lexer": "ipython2",
   "version": "2.7.6"
  }
 },
 "nbformat": 4,
 "nbformat_minor": 5
}
